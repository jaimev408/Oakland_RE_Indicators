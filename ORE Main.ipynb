{
 "cells": [
  {
   "cell_type": "markdown",
   "metadata": {},
   "source": [
    "# Oakland Race and Equity - Capstone Project"
   ]
  },
  {
   "cell_type": "markdown",
   "metadata": {},
   "source": [
    "### Import/Clean Data"
   ]
  },
  {
   "cell_type": "markdown",
   "metadata": {},
   "source": [
    "This is the script used to prepare ACS PUMS data for analysis. For exploratory analysis on the data and the methodology behind the script, check the `ORE Wrangling` notebook"
   ]
  },
  {
   "cell_type": "code",
   "execution_count": 4,
   "metadata": {},
   "outputs": [],
   "source": [
    "#Import Libraries\n",
    "import pandas as pd\n",
    "pd.set_option('display.max_columns', None)"
   ]
  },
  {
   "cell_type": "code",
   "execution_count": 1,
   "metadata": {},
   "outputs": [],
   "source": [
    "def cleanData(person_df, household_df, post2018 = True):\n",
    "    person_df = person_df\n",
    "    household_df = household_df\n",
    "    pFeatures = [\"SERIALNO\", \"SPORDER\", \"PUMA\", \"PWGTP\", \"AGEP\", \"CIT\", \"COW\", \"ENG\", \"FER\", \"JWMNP\"\n",
    "               , \"MAR\", \"MIL\", \"SCH\", \"SCHL\", \"SEX\", \"PAP\", \"INTP\", \"SSIP\", \"SSP\", \"WAGP\"\n",
    "               , \"OIP\", \"RETP\", \"SEMP\", \"PERNP\", \"PINCP\", \"WKL\", \"DIS\", \"ESR\", \"HICOV\", \"HISP\"\n",
    "               , \"PAOC\", \"POVPIP\", \"RAC1P\", \"RACASN\", \"RACBLK\", \"RACWHT\", \"RACSOR\", \"SCIENGP\", \"WKHP\"\n",
    "               , \"SOCP\"]\n",
    "    if post2018:\n",
    "        pFeatures = pFeatures + [\"RELSHIPP\", \"JWTRNS\", \"WKWN\"]\n",
    "    else:\n",
    "        pFeatures = pFeatures + [\"RELP\", \"JWTR\", \"WKW\"]\n",
    "    hFeatures = [\"SERIALNO\", \"PUMA\", \"NP\", \"ACCESS\", \"ACR\", \"BATH\", \"FS\", \"ELEP\", \"FULP\", \"GASP\", \"HISPEED\"\n",
    "              , \"LAPTOP\", \"RNTP\", \"RWATPR\", \"TEN\", \"VALP\", \"VEH\", \"WATP\", \"HINCP\", \"HUPAC\", \"KIT\", \"PLM\"\n",
    "              , \"GRPIP\", \"RMSP\"]\n",
    "    person_df = person_df.loc[:, pFeatures].copy()\n",
    "    household_df = household_df.loc[:, hFeatures].copy()\n",
    "    person_df = person_df.loc[(person_df[\"PUMA\"] > 101) & (person_df[\"PUMA\"] <= 105)].copy()\n",
    "    household_df = household_df.loc[(household_df[\"PUMA\"] > 101) & (household_df[\"PUMA\"] <= 105)].copy()\n",
    "    person_df.loc[(person_df.RAC1P == 1) & (person_df.HISP == 1), \"RACE\"] = \"White\"\n",
    "    person_df.loc[(person_df.RAC1P == 2) & (person_df.HISP == 1), \"RACE\"] = \"African American\"\n",
    "    person_df.loc[(person_df.RAC1P == 6) & (person_df.HISP == 1), \"RACE\"] = \"Asian\"\n",
    "    person_df.loc[(person_df.RAC1P.isin([3, 4, 5, 7, 8, 9])) & (person_df.HISP == 1), \"RACE\"] = \"Other\"\n",
    "    person_df.loc[person_df.HISP != 1, \"RACE\"] = \"Latino\"\n",
    "    person_df = person_df.merge(household_df, how = 'left', on = 'SERIALNO').copy()\n",
    "    person_df = person_df.reindex(person_df.index.repeat(person_df.PWGTP)).reset_index(drop=True).drop(['PWGTP', 'PUMA_y'], axis=1).rename(columns={\"PUMA_x\": \"PUMA\"}).copy()\n",
    "    return person_df"
   ]
  },
  {
   "cell_type": "code",
   "execution_count": 2,
   "metadata": {},
   "outputs": [],
   "source": [
    "def getSize(df, showDim = False, name = \"\"):\n",
    "    if name != \"\":\n",
    "        name = name + \" \"\n",
    "    if showDim:\n",
    "        print(\"Dimensions for the \" + name + \"dataset: \" + str(df.shape))\n",
    "    print(\"New DataFrame size: \" + str(int(df.memory_usage(index=True).sum()/1000000)) + \" MB\")"
   ]
  },
  {
   "cell_type": "markdown",
   "metadata": {},
   "source": [
    "#### Preparing 2016, 2018, and 2019 ACS PUMS data"
   ]
  },
  {
   "cell_type": "markdown",
   "metadata": {},
   "source": [
    "Data can be found at:<br><br>\n",
    "https://www2.census.gov/programs-surveys/acs/data/pums/2016/1-Year/<br>\n",
    "https://www2.census.gov/programs-surveys/acs/data/pums/2018/1-Year/<br>\n",
    "https://www2.census.gov/programs-surveys/acs/data/pums/2019/1-Year/<br>\n",
    "<br>Datasets for California are `csv_pca.zip` and `csv_hca.zip `"
   ]
  },
  {
   "cell_type": "code",
   "execution_count": 6,
   "metadata": {},
   "outputs": [],
   "source": [
    "pca191 = pd.read_csv(\"./Data/2019pCA1.csv\")\n",
    "hca191 = pd.read_csv(\"./Data/2019hCA1.csv\")\n",
    "pca191_Ok = cleanData(pca191, hca191)\n",
    "del pca191, hca191\n",
    "\n",
    "pca181 = pd.read_csv(\"./Data/2018pCA1.csv\")\n",
    "hca181 = pd.read_csv(\"./Data/2018hCA1.csv\")\n",
    "pca181_Ok = cleanData(pca181, hca181, False)\n",
    "del pca181, hca181\n",
    "\n",
    "pca161 = pd.read_csv(\"./Data/2016pCA1.csv\")\n",
    "hca161 = pd.read_csv(\"./Data/2016hCA1.csv\")\n",
    "pca161_Ok = cleanData(pca161, hca161, False)\n",
    "del pca161, hca161"
   ]
  },
  {
   "cell_type": "code",
   "execution_count": null,
   "metadata": {},
   "outputs": [],
   "source": []
  }
 ],
 "metadata": {
  "kernelspec": {
   "display_name": "Python 3",
   "language": "python",
   "name": "python3"
  },
  "language_info": {
   "codemirror_mode": {
    "name": "ipython",
    "version": 3
   },
   "file_extension": ".py",
   "mimetype": "text/x-python",
   "name": "python",
   "nbconvert_exporter": "python",
   "pygments_lexer": "ipython3",
   "version": "3.7.3"
  }
 },
 "nbformat": 4,
 "nbformat_minor": 2
}
