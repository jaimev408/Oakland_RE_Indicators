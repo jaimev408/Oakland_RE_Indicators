{
 "cells": [
  {
   "cell_type": "markdown",
   "metadata": {},
   "source": [
    "# Oakland Race and Equity Main Notebook"
   ]
  },
  {
   "cell_type": "markdown",
   "metadata": {},
   "source": [
    "This Notebook will serve to perform universal cleaning on datasets and for high level exploratory analysis."
   ]
  },
  {
   "cell_type": "markdown",
   "metadata": {},
   "source": [
    "### Import Libraries"
   ]
  },
  {
   "cell_type": "code",
   "execution_count": 1,
   "metadata": {},
   "outputs": [],
   "source": [
    "import pandas as pd"
   ]
  },
  {
   "cell_type": "markdown",
   "metadata": {},
   "source": [
    "## ACS PUMS 2019 Data"
   ]
  },
  {
   "cell_type": "markdown",
   "metadata": {},
   "source": [
    "Below is code to clean the ACS PUM data for the population and household datasets"
   ]
  },
  {
   "cell_type": "code",
   "execution_count": 17,
   "metadata": {},
   "outputs": [],
   "source": [
    "ACS_PUMS_2019_P = pd.read_csv(\"./Data/ACS PUMS 2019/Dataset/csv_pca/psam_p06.csv\")\n",
    "ACS_PUMS_2019_H = pd.read_csv(\"./Data/ACS PUMS 2019/Dataset/csv_hca/psam_h06.csv\")"
   ]
  },
  {
   "cell_type": "markdown",
   "metadata": {},
   "source": [
    "Minor data exploration"
   ]
  },
  {
   "cell_type": "code",
   "execution_count": 9,
   "metadata": {},
   "outputs": [
    {
     "data": {
      "text/html": [
       "<div>\n",
       "<style scoped>\n",
       "    .dataframe tbody tr th:only-of-type {\n",
       "        vertical-align: middle;\n",
       "    }\n",
       "\n",
       "    .dataframe tbody tr th {\n",
       "        vertical-align: top;\n",
       "    }\n",
       "\n",
       "    .dataframe thead th {\n",
       "        text-align: right;\n",
       "    }\n",
       "</style>\n",
       "<table border=\"1\" class=\"dataframe\">\n",
       "  <thead>\n",
       "    <tr style=\"text-align: right;\">\n",
       "      <th></th>\n",
       "      <th>RT</th>\n",
       "      <th>SERIALNO</th>\n",
       "      <th>DIVISION</th>\n",
       "      <th>SPORDER</th>\n",
       "      <th>PUMA</th>\n",
       "      <th>REGION</th>\n",
       "      <th>ST</th>\n",
       "      <th>ADJINC</th>\n",
       "      <th>PWGTP</th>\n",
       "      <th>AGEP</th>\n",
       "      <th>...</th>\n",
       "      <th>PWGTP71</th>\n",
       "      <th>PWGTP72</th>\n",
       "      <th>PWGTP73</th>\n",
       "      <th>PWGTP74</th>\n",
       "      <th>PWGTP75</th>\n",
       "      <th>PWGTP76</th>\n",
       "      <th>PWGTP77</th>\n",
       "      <th>PWGTP78</th>\n",
       "      <th>PWGTP79</th>\n",
       "      <th>PWGTP80</th>\n",
       "    </tr>\n",
       "  </thead>\n",
       "  <tbody>\n",
       "    <tr>\n",
       "      <th>0</th>\n",
       "      <td>P</td>\n",
       "      <td>2019GQ0000003</td>\n",
       "      <td>9</td>\n",
       "      <td>1</td>\n",
       "      <td>3704</td>\n",
       "      <td>4</td>\n",
       "      <td>6</td>\n",
       "      <td>1010145</td>\n",
       "      <td>21</td>\n",
       "      <td>58</td>\n",
       "      <td>...</td>\n",
       "      <td>0</td>\n",
       "      <td>40</td>\n",
       "      <td>0</td>\n",
       "      <td>20</td>\n",
       "      <td>41</td>\n",
       "      <td>40</td>\n",
       "      <td>41</td>\n",
       "      <td>21</td>\n",
       "      <td>0</td>\n",
       "      <td>2</td>\n",
       "    </tr>\n",
       "    <tr>\n",
       "      <th>1</th>\n",
       "      <td>P</td>\n",
       "      <td>2019GQ0000009</td>\n",
       "      <td>9</td>\n",
       "      <td>1</td>\n",
       "      <td>7322</td>\n",
       "      <td>4</td>\n",
       "      <td>6</td>\n",
       "      <td>1010145</td>\n",
       "      <td>34</td>\n",
       "      <td>66</td>\n",
       "      <td>...</td>\n",
       "      <td>62</td>\n",
       "      <td>58</td>\n",
       "      <td>33</td>\n",
       "      <td>7</td>\n",
       "      <td>59</td>\n",
       "      <td>7</td>\n",
       "      <td>34</td>\n",
       "      <td>34</td>\n",
       "      <td>32</td>\n",
       "      <td>34</td>\n",
       "    </tr>\n",
       "    <tr>\n",
       "      <th>2</th>\n",
       "      <td>P</td>\n",
       "      <td>2019GQ0000013</td>\n",
       "      <td>9</td>\n",
       "      <td>1</td>\n",
       "      <td>5904</td>\n",
       "      <td>4</td>\n",
       "      <td>6</td>\n",
       "      <td>1010145</td>\n",
       "      <td>28</td>\n",
       "      <td>18</td>\n",
       "      <td>...</td>\n",
       "      <td>27</td>\n",
       "      <td>27</td>\n",
       "      <td>49</td>\n",
       "      <td>49</td>\n",
       "      <td>7</td>\n",
       "      <td>27</td>\n",
       "      <td>27</td>\n",
       "      <td>29</td>\n",
       "      <td>6</td>\n",
       "      <td>5</td>\n",
       "    </tr>\n",
       "    <tr>\n",
       "      <th>3</th>\n",
       "      <td>P</td>\n",
       "      <td>2019GQ0000023</td>\n",
       "      <td>9</td>\n",
       "      <td>1</td>\n",
       "      <td>7107</td>\n",
       "      <td>4</td>\n",
       "      <td>6</td>\n",
       "      <td>1010145</td>\n",
       "      <td>127</td>\n",
       "      <td>58</td>\n",
       "      <td>...</td>\n",
       "      <td>117</td>\n",
       "      <td>234</td>\n",
       "      <td>226</td>\n",
       "      <td>135</td>\n",
       "      <td>210</td>\n",
       "      <td>217</td>\n",
       "      <td>128</td>\n",
       "      <td>116</td>\n",
       "      <td>125</td>\n",
       "      <td>21</td>\n",
       "    </tr>\n",
       "    <tr>\n",
       "      <th>4</th>\n",
       "      <td>P</td>\n",
       "      <td>2019GQ0000024</td>\n",
       "      <td>9</td>\n",
       "      <td>1</td>\n",
       "      <td>8900</td>\n",
       "      <td>4</td>\n",
       "      <td>6</td>\n",
       "      <td>1010145</td>\n",
       "      <td>103</td>\n",
       "      <td>18</td>\n",
       "      <td>...</td>\n",
       "      <td>180</td>\n",
       "      <td>22</td>\n",
       "      <td>104</td>\n",
       "      <td>104</td>\n",
       "      <td>100</td>\n",
       "      <td>182</td>\n",
       "      <td>24</td>\n",
       "      <td>103</td>\n",
       "      <td>103</td>\n",
       "      <td>23</td>\n",
       "    </tr>\n",
       "  </tbody>\n",
       "</table>\n",
       "<p>5 rows × 288 columns</p>\n",
       "</div>"
      ],
      "text/plain": [
       "  RT       SERIALNO  DIVISION  SPORDER  PUMA  REGION  ST   ADJINC  PWGTP  \\\n",
       "0  P  2019GQ0000003         9        1  3704       4   6  1010145     21   \n",
       "1  P  2019GQ0000009         9        1  7322       4   6  1010145     34   \n",
       "2  P  2019GQ0000013         9        1  5904       4   6  1010145     28   \n",
       "3  P  2019GQ0000023         9        1  7107       4   6  1010145    127   \n",
       "4  P  2019GQ0000024         9        1  8900       4   6  1010145    103   \n",
       "\n",
       "   AGEP  ...  PWGTP71  PWGTP72  PWGTP73  PWGTP74  PWGTP75  PWGTP76  PWGTP77  \\\n",
       "0    58  ...        0       40        0       20       41       40       41   \n",
       "1    66  ...       62       58       33        7       59        7       34   \n",
       "2    18  ...       27       27       49       49        7       27       27   \n",
       "3    58  ...      117      234      226      135      210      217      128   \n",
       "4    18  ...      180       22      104      104      100      182       24   \n",
       "\n",
       "   PWGTP78  PWGTP79  PWGTP80  \n",
       "0       21        0        2  \n",
       "1       34       32       34  \n",
       "2       29        6        5  \n",
       "3      116      125       21  \n",
       "4      103      103       23  \n",
       "\n",
       "[5 rows x 288 columns]"
      ]
     },
     "execution_count": 9,
     "metadata": {},
     "output_type": "execute_result"
    }
   ],
   "source": [
    "ACS_PUMS_2019_P.head()"
   ]
  },
  {
   "cell_type": "code",
   "execution_count": 10,
   "metadata": {},
   "outputs": [
    {
     "data": {
      "text/plain": [
       "dtype('int64')"
      ]
     },
     "execution_count": 10,
     "metadata": {},
     "output_type": "execute_result"
    }
   ],
   "source": [
    "ACS_PUMS_2019.PUMA.dtype"
   ]
  },
  {
   "cell_type": "markdown",
   "metadata": {},
   "source": [
    "Filtering datasets to only include Alameda County using PUMA codes (codes 100-110 are Alameda county)"
   ]
  },
  {
   "cell_type": "code",
   "execution_count": 18,
   "metadata": {},
   "outputs": [],
   "source": [
    "ACS_PUMS_2019_OAKLAND_P = ACS_PUMS_2019_P.loc[(ACS_PUMS_2019_P[\"PUMA\"] > 100) & (ACS_PUMS_2019_P[\"PUMA\"] <= 110)]\n",
    "ACS_PUMS_2019_OAKLAND_H = ACS_PUMS_2019_H.loc[(ACS_PUMS_2019_H[\"PUMA\"] > 100) & (ACS_PUMS_2019_H[\"PUMA\"] <= 110)]"
   ]
  },
  {
   "cell_type": "markdown",
   "metadata": {},
   "source": [
    "Save new datasets"
   ]
  },
  {
   "cell_type": "code",
   "execution_count": 20,
   "metadata": {},
   "outputs": [],
   "source": [
    "ACS_PUMS_2019_OAKLAND_P.to_csv(\"./Data/ACS PUMS 2019/Dataset/csv_pca/ACS_PUMS_ALAMEDA_P.csv\")\n",
    "ACS_PUMS_2019_OAKLAND_H.to_csv(\"./Data/ACS PUMS 2019/Dataset/csv_hca/ACS_PUMS_ALAMEDA_H.csv\")"
   ]
  },
  {
   "cell_type": "code",
   "execution_count": null,
   "metadata": {},
   "outputs": [],
   "source": []
  }
 ],
 "metadata": {
  "kernelspec": {
   "display_name": "Python 3",
   "language": "python",
   "name": "python3"
  },
  "language_info": {
   "codemirror_mode": {
    "name": "ipython",
    "version": 3
   },
   "file_extension": ".py",
   "mimetype": "text/x-python",
   "name": "python",
   "nbconvert_exporter": "python",
   "pygments_lexer": "ipython3",
   "version": "3.7.9"
  }
 },
 "nbformat": 4,
 "nbformat_minor": 4
}
